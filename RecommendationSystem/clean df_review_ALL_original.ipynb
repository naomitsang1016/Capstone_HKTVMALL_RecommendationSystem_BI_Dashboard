{
 "cells": [
  {
   "cell_type": "code",
   "execution_count": 1,
   "id": "42f42397",
   "metadata": {},
   "outputs": [],
   "source": [
    "import pandas as pd"
   ]
  },
  {
   "cell_type": "code",
   "execution_count": 5,
   "id": "4a564f1b",
   "metadata": {},
   "outputs": [],
   "source": [
    "df = pd.read_csv('df_review_ALL_original.csv')"
   ]
  },
  {
   "cell_type": "code",
   "execution_count": 7,
   "id": "75c45475",
   "metadata": {},
   "outputs": [],
   "source": [
    "df = df[['ProductID','Username','Rating']]"
   ]
  },
  {
   "cell_type": "code",
   "execution_count": 9,
   "id": "b20b0028",
   "metadata": {},
   "outputs": [
    {
     "name": "stderr",
     "output_type": "stream",
     "text": [
      "C:\\Users\\Thomas\\AppData\\Local\\Temp/ipykernel_6396/3514137252.py:1: SettingWithCopyWarning: \n",
      "A value is trying to be set on a copy of a slice from a DataFrame.\n",
      "Try using .loc[row_indexer,col_indexer] = value instead\n",
      "\n",
      "See the caveats in the documentation: https://pandas.pydata.org/pandas-docs/stable/user_guide/indexing.html#returning-a-view-versus-a-copy\n",
      "  df['Username']= df['Username'].apply(lambda x:str(x).split('>')[-1])\n"
     ]
    }
   ],
   "source": [
    "# clean the usernames\n",
    "df['Username']= df['Username'].apply(lambda x:str(x).split('>')[-1])"
   ]
  },
  {
   "cell_type": "code",
   "execution_count": 11,
   "id": "55481dce",
   "metadata": {},
   "outputs": [],
   "source": [
    "df.to_csv('df_review_ALL_original.csv')"
   ]
  },
  {
   "cell_type": "code",
   "execution_count": null,
   "id": "562c6a09",
   "metadata": {},
   "outputs": [],
   "source": []
  }
 ],
 "metadata": {
  "kernelspec": {
   "display_name": "Python 3 (ipykernel)",
   "language": "python",
   "name": "python3"
  },
  "language_info": {
   "codemirror_mode": {
    "name": "ipython",
    "version": 3
   },
   "file_extension": ".py",
   "mimetype": "text/x-python",
   "name": "python",
   "nbconvert_exporter": "python",
   "pygments_lexer": "ipython3",
   "version": "3.9.7"
  }
 },
 "nbformat": 4,
 "nbformat_minor": 5
}
